{
 "cells": [
  {
   "cell_type": "markdown",
   "metadata": {
    "collapsed": false
   },
   "source": [
    "# Basic usage"
   ]
  },
  {
   "cell_type": "code",
   "execution_count": 11,
   "metadata": {
    "collapsed": false
   },
   "outputs": [],
   "source": [
    "from pyhdx.datasets import read_dynamx\n",
    "from pyhdx.models import HDXMeasurement\n",
    "from pyhdx.process import filter_peptides, apply_control, correct_d_uptake\n",
    "from pyhdx.plot import peptide_coverage\n",
    "import ultraplot as uplt\n",
    "from pathlib import Path"
   ]
  },
  {
   "cell_type": "markdown",
   "metadata": {
    "collapsed": false
   },
   "source": [
    "We can use the ``read_dynamx`` function to read the input DynamX state file. In these fildes, exposure times in the .csv file are in units of minutes, which are converted to seconds using the `time_conversion` argument.\n",
    "\n",
    "Any space in column names are replaced with underscores and an additional column 'stop' is added, which is equal to `'end' + 1` such that python-standard `inclusive: exclusive` interval indexing can be used.\n",
    "\n",
    "This function returns a ``pandas`` DataFrame where each entry corresponds to one peptide, in this example 567 peptides."
   ]
  },
  {
   "cell_type": "code",
   "execution_count": 2,
   "metadata": {
    "collapsed": false
   },
   "outputs": [
    {
     "data": {
      "text/html": [
       "<div>\n",
       "<style scoped>\n",
       "    .dataframe tbody tr th:only-of-type {\n",
       "        vertical-align: middle;\n",
       "    }\n",
       "\n",
       "    .dataframe tbody tr th {\n",
       "        vertical-align: top;\n",
       "    }\n",
       "\n",
       "    .dataframe thead th {\n",
       "        text-align: right;\n",
       "    }\n",
       "</style>\n",
       "<table border=\"1\" class=\"dataframe\">\n",
       "  <thead>\n",
       "    <tr style=\"text-align: right;\">\n",
       "      <th></th>\n",
       "      <th>protein</th>\n",
       "      <th>start</th>\n",
       "      <th>end</th>\n",
       "      <th>stop</th>\n",
       "      <th>sequence</th>\n",
       "      <th>modification</th>\n",
       "      <th>fragment</th>\n",
       "      <th>maxuptake</th>\n",
       "      <th>mhp</th>\n",
       "      <th>state</th>\n",
       "      <th>exposure</th>\n",
       "      <th>center</th>\n",
       "      <th>center_sd</th>\n",
       "      <th>uptake</th>\n",
       "      <th>uptake_sd</th>\n",
       "      <th>rt</th>\n",
       "      <th>rt_sd</th>\n",
       "    </tr>\n",
       "  </thead>\n",
       "  <tbody>\n",
       "    <tr>\n",
       "      <th>0</th>\n",
       "      <td>Accession</td>\n",
       "      <td>9</td>\n",
       "      <td>17</td>\n",
       "      <td>18</td>\n",
       "      <td>MTFQIQRIY</td>\n",
       "      <td>NaN</td>\n",
       "      <td>NaN</td>\n",
       "      <td>8</td>\n",
       "      <td>1199.6241</td>\n",
       "      <td>Full deuteration control</td>\n",
       "      <td>0.00</td>\n",
       "      <td>1200.412304</td>\n",
       "      <td>0.001798</td>\n",
       "      <td>0.000000</td>\n",
       "      <td>0.000000</td>\n",
       "      <td>5.510866</td>\n",
       "      <td>0.003846</td>\n",
       "    </tr>\n",
       "    <tr>\n",
       "      <th>1</th>\n",
       "      <td>Accession</td>\n",
       "      <td>9</td>\n",
       "      <td>17</td>\n",
       "      <td>18</td>\n",
       "      <td>MTFQIQRIY</td>\n",
       "      <td>NaN</td>\n",
       "      <td>NaN</td>\n",
       "      <td>8</td>\n",
       "      <td>1199.6241</td>\n",
       "      <td>Full deuteration control</td>\n",
       "      <td>10.02</td>\n",
       "      <td>1205.485704</td>\n",
       "      <td>0.019962</td>\n",
       "      <td>5.073400</td>\n",
       "      <td>0.020042</td>\n",
       "      <td>5.519758</td>\n",
       "      <td>0.002944</td>\n",
       "    </tr>\n",
       "    <tr>\n",
       "      <th>2</th>\n",
       "      <td>Accession</td>\n",
       "      <td>9</td>\n",
       "      <td>17</td>\n",
       "      <td>18</td>\n",
       "      <td>MTFQIQRIY</td>\n",
       "      <td>NaN</td>\n",
       "      <td>NaN</td>\n",
       "      <td>8</td>\n",
       "      <td>1199.6241</td>\n",
       "      <td>SecB WT apo</td>\n",
       "      <td>0.00</td>\n",
       "      <td>1200.411174</td>\n",
       "      <td>0.023301</td>\n",
       "      <td>0.000000</td>\n",
       "      <td>0.000000</td>\n",
       "      <td>5.513296</td>\n",
       "      <td>0.010889</td>\n",
       "    </tr>\n",
       "    <tr>\n",
       "      <th>3</th>\n",
       "      <td>Accession</td>\n",
       "      <td>9</td>\n",
       "      <td>17</td>\n",
       "      <td>18</td>\n",
       "      <td>MTFQIQRIY</td>\n",
       "      <td>NaN</td>\n",
       "      <td>NaN</td>\n",
       "      <td>8</td>\n",
       "      <td>1199.6241</td>\n",
       "      <td>SecB WT apo</td>\n",
       "      <td>10.02</td>\n",
       "      <td>1202.897618</td>\n",
       "      <td>0.016323</td>\n",
       "      <td>2.486444</td>\n",
       "      <td>0.028450</td>\n",
       "      <td>5.513900</td>\n",
       "      <td>0.010976</td>\n",
       "    </tr>\n",
       "    <tr>\n",
       "      <th>4</th>\n",
       "      <td>Accession</td>\n",
       "      <td>9</td>\n",
       "      <td>17</td>\n",
       "      <td>18</td>\n",
       "      <td>MTFQIQRIY</td>\n",
       "      <td>NaN</td>\n",
       "      <td>NaN</td>\n",
       "      <td>8</td>\n",
       "      <td>1199.6241</td>\n",
       "      <td>SecB WT apo</td>\n",
       "      <td>30.00</td>\n",
       "      <td>1203.268315</td>\n",
       "      <td>0.029992</td>\n",
       "      <td>2.857141</td>\n",
       "      <td>0.037979</td>\n",
       "      <td>5.510626</td>\n",
       "      <td>0.008419</td>\n",
       "    </tr>\n",
       "  </tbody>\n",
       "</table>\n",
       "</div>"
      ],
      "text/plain": [
       "     protein  start  end  stop   sequence  modification  fragment  maxuptake  \\\n",
       "0  Accession      9   17    18  MTFQIQRIY           NaN       NaN          8   \n",
       "1  Accession      9   17    18  MTFQIQRIY           NaN       NaN          8   \n",
       "2  Accession      9   17    18  MTFQIQRIY           NaN       NaN          8   \n",
       "3  Accession      9   17    18  MTFQIQRIY           NaN       NaN          8   \n",
       "4  Accession      9   17    18  MTFQIQRIY           NaN       NaN          8   \n",
       "\n",
       "         mhp                     state  exposure       center  center_sd  \\\n",
       "0  1199.6241  Full deuteration control      0.00  1200.412304   0.001798   \n",
       "1  1199.6241  Full deuteration control     10.02  1205.485704   0.019962   \n",
       "2  1199.6241               SecB WT apo      0.00  1200.411174   0.023301   \n",
       "3  1199.6241               SecB WT apo     10.02  1202.897618   0.016323   \n",
       "4  1199.6241               SecB WT apo     30.00  1203.268315   0.029992   \n",
       "\n",
       "     uptake  uptake_sd        rt     rt_sd  \n",
       "0  0.000000   0.000000  5.510866  0.003846  \n",
       "1  5.073400   0.020042  5.519758  0.002944  \n",
       "2  0.000000   0.000000  5.513296  0.010889  \n",
       "3  2.486444   0.028450  5.513900  0.010976  \n",
       "4  2.857141   0.037979  5.510626  0.008419  "
      ]
     },
     "execution_count": 2,
     "metadata": {},
     "output_type": "execute_result"
    }
   ],
   "source": [
    "fpath = Path() / \"..\" / \"..\" / \"tests\" / \"test_data\" / \"input\" / \"ecSecB_apo.csv\"\n",
    "data = read_dynamx(fpath, time_conversion=(\"min\", \"s\"))\n",
    "data.head()"
   ]
  },
  {
   "cell_type": "markdown",
   "metadata": {
    "collapsed": false
   },
   "source": [
    "This dataframe contains the peptides for both the fully deuterated control example as well as the experimental peptides measured over multiple deuterium exposure times. The `filter_peptides` function can be used for to separate out peptides by their 'state' and 'exposure' fields."
   ]
  },
  {
   "cell_type": "code",
   "execution_count": 3,
   "metadata": {
    "collapsed": false
   },
   "outputs": [
    {
     "data": {
      "text/plain": [
       "(array(['Full deuteration control'], dtype=object), array([10.02]))"
      ]
     },
     "execution_count": 3,
     "metadata": {},
     "output_type": "execute_result"
    }
   ],
   "source": [
    "# Filter out peptides for the full deuteration control\n",
    "fd_df = filter_peptides(data, state=\"Full deuteration control\", exposure=60 * 0.167)\n",
    "fd_df[\"state\"].unique(), fd_df[\"exposure\"].unique()"
   ]
  },
  {
   "cell_type": "markdown",
   "metadata": {
    "collapsed": false
   },
   "source": [
    "Additionally, the `query` keyword argument can be used to pass a list of additional queries to be applied to the DataFrame. The query strings are passed to [pandas.DataFrame.query](https://pandas.pydata.org/docs/reference/api/pandas.DataFrame.query.html) and the example below removes all 0 exposure times peptides."
   ]
  },
  {
   "cell_type": "code",
   "execution_count": 4,
   "metadata": {
    "collapsed": false
   },
   "outputs": [
    {
     "data": {
      "text/plain": [
       "(array(['SecB WT apo'], dtype=object),\n",
       " array([  10.02   ,   30.     ,   60.     ,  300.     ,  600.     ,\n",
       "        6000.00048]))"
      ]
     },
     "execution_count": 4,
     "metadata": {},
     "output_type": "execute_result"
    }
   ],
   "source": [
    "peptides = filter_peptides(data, state=\"SecB WT apo\", query=[\"exposure > 0.\"])\n",
    "peptides[\"state\"].unique(), peptides[\"exposure\"].unique()"
   ]
  },
  {
   "cell_type": "markdown",
   "metadata": {
    "collapsed": false
   },
   "source": [
    "Next, the FD control is applied with the `apply_control` function. This takes the intersection of peptides between the experimental and control peptides and subsequently adds the columns: 'fd_uptake', 'fd_uptake_sd', 'nd_uptake' , 'nd_uptake_sd', 'rfu' and 'rfu_sd'. The 'rfu' fields are Relative Fractional Uptake and are caluculated as:\n",
    "\n",
    "$$\n",
    "RFU = \\frac{U(t) - ND }{FD - ND}\n",
    "$$\n",
    "\n",
    "Where $U(t)$ are deuterium uptake values per peptide as a function of their D-exposure time. Supplying a Non-deuteration control is optional, and is otherwise assumed to be zero."
   ]
  },
  {
   "cell_type": "code",
   "execution_count": 5,
   "metadata": {
    "collapsed": false
   },
   "outputs": [
    {
     "data": {
      "text/html": [
       "<div>\n",
       "<style scoped>\n",
       "    .dataframe tbody tr th:only-of-type {\n",
       "        vertical-align: middle;\n",
       "    }\n",
       "\n",
       "    .dataframe tbody tr th {\n",
       "        vertical-align: top;\n",
       "    }\n",
       "\n",
       "    .dataframe thead th {\n",
       "        text-align: right;\n",
       "    }\n",
       "</style>\n",
       "<table border=\"1\" class=\"dataframe\">\n",
       "  <thead>\n",
       "    <tr style=\"text-align: right;\">\n",
       "      <th></th>\n",
       "      <th>start</th>\n",
       "      <th>end</th>\n",
       "      <th>stop</th>\n",
       "      <th>sequence</th>\n",
       "      <th>state</th>\n",
       "      <th>exposure</th>\n",
       "      <th>uptake</th>\n",
       "      <th>uptake_sd</th>\n",
       "      <th>maxuptake</th>\n",
       "      <th>fd_uptake</th>\n",
       "      <th>...</th>\n",
       "      <th>rfu</th>\n",
       "      <th>rfu_sd</th>\n",
       "      <th>protein</th>\n",
       "      <th>modification</th>\n",
       "      <th>fragment</th>\n",
       "      <th>mhp</th>\n",
       "      <th>center</th>\n",
       "      <th>center_sd</th>\n",
       "      <th>rt</th>\n",
       "      <th>rt_sd</th>\n",
       "    </tr>\n",
       "  </thead>\n",
       "  <tbody>\n",
       "    <tr>\n",
       "      <th>0</th>\n",
       "      <td>9</td>\n",
       "      <td>17</td>\n",
       "      <td>18</td>\n",
       "      <td>MTFQIQRIY</td>\n",
       "      <td>SecB WT apo</td>\n",
       "      <td>10.02</td>\n",
       "      <td>2.486444</td>\n",
       "      <td>0.028450</td>\n",
       "      <td>8</td>\n",
       "      <td>5.0734</td>\n",
       "      <td>...</td>\n",
       "      <td>0.490094</td>\n",
       "      <td>0.005932</td>\n",
       "      <td>Accession</td>\n",
       "      <td>NaN</td>\n",
       "      <td>NaN</td>\n",
       "      <td>1199.6241</td>\n",
       "      <td>1202.897618</td>\n",
       "      <td>0.016323</td>\n",
       "      <td>5.513900</td>\n",
       "      <td>0.010976</td>\n",
       "    </tr>\n",
       "    <tr>\n",
       "      <th>1</th>\n",
       "      <td>9</td>\n",
       "      <td>17</td>\n",
       "      <td>18</td>\n",
       "      <td>MTFQIQRIY</td>\n",
       "      <td>SecB WT apo</td>\n",
       "      <td>30.00</td>\n",
       "      <td>2.857141</td>\n",
       "      <td>0.037979</td>\n",
       "      <td>8</td>\n",
       "      <td>5.0734</td>\n",
       "      <td>...</td>\n",
       "      <td>0.563161</td>\n",
       "      <td>0.007809</td>\n",
       "      <td>Accession</td>\n",
       "      <td>NaN</td>\n",
       "      <td>NaN</td>\n",
       "      <td>1199.6241</td>\n",
       "      <td>1203.268315</td>\n",
       "      <td>0.029992</td>\n",
       "      <td>5.510626</td>\n",
       "      <td>0.008419</td>\n",
       "    </tr>\n",
       "    <tr>\n",
       "      <th>2</th>\n",
       "      <td>9</td>\n",
       "      <td>17</td>\n",
       "      <td>18</td>\n",
       "      <td>MTFQIQRIY</td>\n",
       "      <td>SecB WT apo</td>\n",
       "      <td>60.00</td>\n",
       "      <td>3.145738</td>\n",
       "      <td>0.046666</td>\n",
       "      <td>8</td>\n",
       "      <td>5.0734</td>\n",
       "      <td>...</td>\n",
       "      <td>0.620045</td>\n",
       "      <td>0.009519</td>\n",
       "      <td>Accession</td>\n",
       "      <td>NaN</td>\n",
       "      <td>NaN</td>\n",
       "      <td>1199.6241</td>\n",
       "      <td>1203.556913</td>\n",
       "      <td>0.040432</td>\n",
       "      <td>5.516562</td>\n",
       "      <td>0.012371</td>\n",
       "    </tr>\n",
       "    <tr>\n",
       "      <th>3</th>\n",
       "      <td>9</td>\n",
       "      <td>17</td>\n",
       "      <td>18</td>\n",
       "      <td>MTFQIQRIY</td>\n",
       "      <td>SecB WT apo</td>\n",
       "      <td>300.00</td>\n",
       "      <td>3.785886</td>\n",
       "      <td>0.024942</td>\n",
       "      <td>8</td>\n",
       "      <td>5.0734</td>\n",
       "      <td>...</td>\n",
       "      <td>0.746223</td>\n",
       "      <td>0.005732</td>\n",
       "      <td>Accession</td>\n",
       "      <td>NaN</td>\n",
       "      <td>NaN</td>\n",
       "      <td>1199.6241</td>\n",
       "      <td>1204.197061</td>\n",
       "      <td>0.008898</td>\n",
       "      <td>5.505509</td>\n",
       "      <td>0.004363</td>\n",
       "    </tr>\n",
       "    <tr>\n",
       "      <th>4</th>\n",
       "      <td>9</td>\n",
       "      <td>17</td>\n",
       "      <td>18</td>\n",
       "      <td>MTFQIQRIY</td>\n",
       "      <td>SecB WT apo</td>\n",
       "      <td>600.00</td>\n",
       "      <td>4.082950</td>\n",
       "      <td>0.036037</td>\n",
       "      <td>8</td>\n",
       "      <td>5.0734</td>\n",
       "      <td>...</td>\n",
       "      <td>0.804776</td>\n",
       "      <td>0.007782</td>\n",
       "      <td>Accession</td>\n",
       "      <td>NaN</td>\n",
       "      <td>NaN</td>\n",
       "      <td>1199.6241</td>\n",
       "      <td>1204.494124</td>\n",
       "      <td>0.027490</td>\n",
       "      <td>5.522181</td>\n",
       "      <td>0.011556</td>\n",
       "    </tr>\n",
       "  </tbody>\n",
       "</table>\n",
       "<p>5 rows × 23 columns</p>\n",
       "</div>"
      ],
      "text/plain": [
       "   start  end  stop   sequence        state  exposure    uptake  uptake_sd  \\\n",
       "0      9   17    18  MTFQIQRIY  SecB WT apo     10.02  2.486444   0.028450   \n",
       "1      9   17    18  MTFQIQRIY  SecB WT apo     30.00  2.857141   0.037979   \n",
       "2      9   17    18  MTFQIQRIY  SecB WT apo     60.00  3.145738   0.046666   \n",
       "3      9   17    18  MTFQIQRIY  SecB WT apo    300.00  3.785886   0.024942   \n",
       "4      9   17    18  MTFQIQRIY  SecB WT apo    600.00  4.082950   0.036037   \n",
       "\n",
       "   maxuptake  fd_uptake  ...       rfu    rfu_sd    protein  modification  \\\n",
       "0          8     5.0734  ...  0.490094  0.005932  Accession           NaN   \n",
       "1          8     5.0734  ...  0.563161  0.007809  Accession           NaN   \n",
       "2          8     5.0734  ...  0.620045  0.009519  Accession           NaN   \n",
       "3          8     5.0734  ...  0.746223  0.005732  Accession           NaN   \n",
       "4          8     5.0734  ...  0.804776  0.007782  Accession           NaN   \n",
       "\n",
       "   fragment        mhp       center  center_sd        rt     rt_sd  \n",
       "0       NaN  1199.6241  1202.897618   0.016323  5.513900  0.010976  \n",
       "1       NaN  1199.6241  1203.268315   0.029992  5.510626  0.008419  \n",
       "2       NaN  1199.6241  1203.556913   0.040432  5.516562  0.012371  \n",
       "3       NaN  1199.6241  1204.197061   0.008898  5.505509  0.004363  \n",
       "4       NaN  1199.6241  1204.494124   0.027490  5.522181  0.011556  \n",
       "\n",
       "[5 rows x 23 columns]"
      ]
     },
     "execution_count": 5,
     "metadata": {},
     "output_type": "execute_result"
    }
   ],
   "source": [
    "peptides_control = apply_control(peptides, fd_df, nd_control=None)\n",
    "peptides_control.head()"
   ]
  },
  {
   "cell_type": "markdown",
   "metadata": {
    "collapsed": false
   },
   "source": [
    "Next, the measured d-uptake is corrected for backexchange and the percentage of deuterium in solution. For this, the amount of N-terminal residues which are assumed to fully back exchange must be specified (typically best set to 2).\n",
    "\n",
    "This step modified the 'sequence' field by marking back-exchanging amino acids with 'x', and adds the columns 'ex_residues', which is the total number of exchanging residues given back exchange, prolines and the percentage deuterium, and the column 'uptake_corrected', which is the final corrected D-uptake for the peptide."
   ]
  },
  {
   "cell_type": "code",
   "execution_count": 6,
   "metadata": {
    "collapsed": false
   },
   "outputs": [
    {
     "data": {
      "text/plain": [
       "start                         9\n",
       "end                          17\n",
       "stop                         18\n",
       "sequence              xxFQIQRIY\n",
       "state               SecB WT apo\n",
       "exposure                  10.02\n",
       "uptake                 2.486444\n",
       "uptake_sd               0.02845\n",
       "maxuptake                     8\n",
       "fd_uptake                5.0734\n",
       "fd_uptake_sd           0.020042\n",
       "nd_uptake                     0\n",
       "nd_uptake_sd                  0\n",
       "rfu                    0.490094\n",
       "rfu_sd                 0.005932\n",
       "protein               Accession\n",
       "modification                NaN\n",
       "fragment                    NaN\n",
       "mhp                   1199.6241\n",
       "center              1202.897618\n",
       "center_sd              0.016323\n",
       "rt                       5.5139\n",
       "rt_sd                  0.010976\n",
       "_sequence             MTFQIQRIY\n",
       "_start                       11\n",
       "_stop                        18\n",
       "ex_residues                 6.3\n",
       "uptake_corrected       3.087594\n",
       "Name: 0, dtype: object"
      ]
     },
     "execution_count": 6,
     "metadata": {},
     "output_type": "execute_result"
    }
   ],
   "source": [
    "peptides_corrected = correct_d_uptake(peptides_control, drop_first=2, d_percentage=90.0)\n",
    "peptides_corrected.iloc[0]"
   ]
  },
  {
   "cell_type": "markdown",
   "metadata": {
    "collapsed": false
   },
   "source": [
    "This data array can now be used to create an ``HDXMeasurement`` object, the main data object in PyHDX. Experimental metadata such as labelling pH and temperature (in Kelvin) can be specified. These quantities are required for calculating intrinsic exchange rates and ΔG values. The pH values are uncorrected values are measured by the pH meter (ie p(H, D) values)"
   ]
  },
  {
   "cell_type": "code",
   "execution_count": 7,
   "metadata": {
    "collapsed": false
   },
   "outputs": [
    {
     "data": {
      "text/markdown": [
       "HDX Measurement:     My HDX measurement<br><br>Number of peptides:         63<br>Number of residues:         145 (11 - 156)<br>Number of timepoints:       6<br>Timepoints:                 10.02, 30.00, 60.00, 300.00, 600.00, 6000.00 seconds<br>Coverage Percentage:        88.39<br>Average redundancy:         5.04   <br>Average peptide length:     11.89<br>Repeatability (mean std):   0.05 Da<br>Temperature:                303.15 K<br>pH:                         8.0             <br>"
      ],
      "text/plain": [
       "<pyhdx.models.HDXMeasurement at 0x1b8f82cf6d0>"
      ]
     },
     "execution_count": 7,
     "metadata": {},
     "output_type": "execute_result"
    }
   ],
   "source": [
    "sequence = \"MSEQNNTEMTFQIQRIYTKDISFEAPNAPHVFQKDWQPEVKLDLDTASSQLADDVYEVVLRVTVTASLGEETAFLCEVQQGGIFSIAGIEGTQMAHCLGAYCPNILFPYARECITSMVSRGTFPQLNLAPVNFDALFMNYLQQQAGEGTEEHQDA\"\n",
    "temperature, pH = 273.15 + 30, 8.0\n",
    "\n",
    "hdxm = HDXMeasurement(\n",
    "    peptides_corrected, sequence=sequence, pH=pH, temperature=temperature, name=\"My HDX measurement\"\n",
    ")\n",
    "hdxm"
   ]
  },
  {
   "cell_type": "markdown",
   "metadata": {
    "collapsed": false
   },
   "source": [
    "Iterating over a ``HDXMeasurement`` object returns a set of ``HDXTimepoint`` each with their own attributes describing the topology of the coverage. When creating the object, peptides which are not present in all timepoints are removed, such that all timepoints and ``HDXTimepoint`` have identical coverage.\n",
    "\n",
    "Note that the internal time units in PyHDX are seconds."
   ]
  },
  {
   "cell_type": "code",
   "execution_count": 8,
   "metadata": {
    "collapsed": false
   },
   "outputs": [
    {
     "data": {
      "image/png": "[encoded data removed]",
      "text/plain": [
       "Figure(nrows=1, ncols=1, figwidth=10.0, figheight=5.0)"
      ]
     },
     "metadata": {
      "image/png": {
       "height": 500,
       "width": 1000
      }
     },
     "output_type": "display_data"
    }
   ],
   "source": [
    "fig, ax = uplt.subplots(figsize=(10, 5))\n",
    "i = 0\n",
    "peptide_coverage(ax, hdxm[i].data, 20, cbar=True)\n",
    "title = ax.set_title(f\"Peptides t = {hdxm.timepoints[i]}\")\n",
    "label = ax.set_xlabel(\"Residue number\")"
   ]
  },
  {
   "cell_type": "code",
   "execution_count": 9,
   "metadata": {
    "collapsed": false
   },
   "outputs": [
    {
     "data": {
      "image/png": "[encoded data removed]",
      "text/plain": [
       "Figure(nrows=1, ncols=1, figwidth=10.0, figheight=5.0)"
      ]
     },
     "metadata": {
      "image/png": {
       "height": 500,
       "width": 1000
      }
     },
     "output_type": "display_data"
    }
   ],
   "source": [
    "fig, ax = uplt.subplots(figsize=(10, 5))\n",
    "i = 4\n",
    "peptide_coverage(ax, hdxm[i].data, 20, cbar=True)\n",
    "title = ax.set_title(f\"Peptides t = {hdxm.timepoints[i]}\")\n",
    "label = ax.set_xlabel(\"Residue number\")"
   ]
  },
  {
   "cell_type": "markdown",
   "metadata": {
    "collapsed": false
   },
   "source": [
    "The data in an ``HDXMeasurement`` object can be saved to and reloaded from disk (with associated metadata)\n",
    "in .csv format."
   ]
  },
  {
   "cell_type": "code",
   "execution_count": 10,
   "metadata": {
    "collapsed": false
   },
   "outputs": [
    {
     "data": {
      "text/markdown": [
       "HDX Measurement:     My HDX measurement<br><br>Number of peptides:         63<br>Number of residues:         145 (11 - 156)<br>Number of timepoints:       6<br>Timepoints:                 10.02, 30.00, 60.00, 300.00, 600.00, 6000.00 seconds<br>Coverage Percentage:        88.39<br>Average redundancy:         5.04   <br>Average peptide length:     11.89<br>Repeatability (mean std):   0.05 Da<br>Temperature:                303.15 K<br>pH:                         8.0             <br>"
      ],
      "text/plain": [
       "<pyhdx.models.HDXMeasurement at 0x1b8b6bd8eb0>"
      ]
     },
     "execution_count": 10,
     "metadata": {},
     "output_type": "execute_result"
    }
   ],
   "source": [
    "from pyhdx.fileIO import csv_to_hdxm\n",
    "\n",
    "hdxm.to_file(\"My_HDX_file.csv\")\n",
    "hdx_load = csv_to_hdxm(\"My_HDX_file.csv\")\n",
    "hdx_load"
   ]
  }
 ],
 "metadata": {
  "kernelspec": {
   "display_name": ".venv-py310",
   "language": "python",
   "name": "python3"
  },
  "language_info": {
   "codemirror_mode": {
    "name": "ipython",
    "version": 3
   },
   "file_extension": ".py",
   "mimetype": "text/x-python",
   "name": "python",
   "nbconvert_exporter": "python",
   "pygments_lexer": "ipython3",
   "version": "3.10.10"
  }
 },
 "nbformat": 4,
 "nbformat_minor": 0
}
